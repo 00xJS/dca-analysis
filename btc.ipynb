{
 "cells": [
  {
   "cell_type": "markdown",
   "metadata": {},
   "source": [
    "Import Libraries and Initial Data Processing"
   ]
  },
  {
   "cell_type": "code",
   "execution_count": 1,
   "metadata": {},
   "outputs": [
    {
     "name": "stdout",
     "output_type": "stream",
     "text": [
      "                Open      High       Low     Close      Volume\n",
      "Timestamp                                                     \n",
      "2012-01-01  4.645697  4.645697  4.645697  4.645697   10.000000\n",
      "2012-01-02  4.975000  4.975000  4.975000  4.975000   10.100000\n",
      "2012-01-03  5.085500  5.085500  5.085500  5.085500  107.085281\n",
      "2012-01-04  5.170250  5.170396  5.170250  5.170396  107.233260\n",
      "2012-01-05  5.954292  5.954361  5.954292  5.954361   70.328742\n",
      "Daily data saved to bitcoin_daily.csv\n"
     ]
    }
   ],
   "source": [
    "import pandas as pd\n",
    "from datetime import datetime, timedelta\n",
    "\n",
    "# Convert 1-minute Bitcoin data to daily data\n",
    "def convert_to_daily(df):\n",
    "    df['Timestamp'] = pd.to_datetime(df['Timestamp'], unit='s')\n",
    "    df = df.set_index('Timestamp')\n",
    "    daily_df = df.resample('D').agg({\n",
    "        'Open': 'mean', 'High': 'mean', 'Low': 'mean', 'Close': 'mean', 'Volume': 'sum'\n",
    "    })\n",
    "    return daily_df\n",
    "\n",
    "try:\n",
    "    # Read the 1-minute data\n",
    "    bitcoin_df = pd.read_csv('btcusd_1-min_data.csv')\n",
    "    # Convert to daily data\n",
    "    daily_data = convert_to_daily(bitcoin_df)\n",
    "    print(daily_data.head())\n",
    "    # Save daily data to a new CSV\n",
    "    daily_data.to_csv('bitcoin_daily.csv')\n",
    "    print(\"Daily data saved to bitcoin_daily.csv\")\n",
    "except FileNotFoundError:\n",
    "    print(\"btcusd_1-min_data.csv not found.\")\n",
    "except Exception as e:\n",
    "    print(f\"An error occurred: {e}\")"
   ]
  },
  {
   "cell_type": "markdown",
   "metadata": {},
   "source": [
    "Load Daily Data and Define DCA Calculation Function"
   ]
  },
  {
   "cell_type": "code",
   "execution_count": 3,
   "metadata": {},
   "outputs": [],
   "source": [
    "# Load the preprocessed daily data\n",
    "df = pd.read_csv('bitcoin_daily.csv')\n",
    "df['Timestamp'] = pd.to_datetime(df['Timestamp'])\n",
    "\n",
    "def calculate_dca(df, investment_amount, frequency_days, start_date, end_date):\n",
    "    purchases = []\n",
    "    current_date = start_date\n",
    "    total_invested = 0\n",
    "    total_btc = 0\n",
    "\n",
    "    while current_date <= end_date:\n",
    "        price_row = df[df['Timestamp'] <= current_date].iloc[-1]\n",
    "        btc_bought = investment_amount / price_row['Close']\n",
    "        total_invested += investment_amount\n",
    "        total_btc += btc_bought\n",
    "        \n",
    "        purchases.append({\n",
    "            'Date': current_date,\n",
    "            'BTC_Bought': btc_bought,\n",
    "            'Price': price_row['Close'],\n",
    "            'Total_Invested': total_invested,\n",
    "            'Total_BTC': total_btc\n",
    "        })\n",
    "        \n",
    "        current_date += timedelta(days=frequency_days)\n",
    "\n",
    "    final_price = df[df['Timestamp'] == end_date]['Close'].values[0]\n",
    "    final_value = total_btc * final_price\n",
    "\n",
    "    return pd.DataFrame(purchases), total_invested, total_btc, final_value"
   ]
  },
  {
   "cell_type": "markdown",
   "metadata": {},
   "source": [
    "DCA Simulation and Results"
   ]
  },
  {
   "cell_type": "code",
   "execution_count": 8,
   "metadata": {},
   "outputs": [
    {
     "name": "stdout",
     "output_type": "stream",
     "text": [
      "Total invested: $2700.00\n",
      "Total BTC bought: 0.04073994\n",
      "Final BTC value at 2025-01-27: $4176.41\n",
      "Return on Investment: 54.68%\n",
      "         Date  BTC_Bought          Price  Total_Invested  Total_BTC  \\\n",
      "0  2024-01-27    0.002392   41805.281250             100   0.002392   \n",
      "1  2024-02-10    0.002114   47308.683333             200   0.004506   \n",
      "2  2024-02-24    0.001960   51024.063889             300   0.006466   \n",
      "3  2024-03-09    0.001461   68464.370139             400   0.007926   \n",
      "4  2024-03-23    0.001555   64301.992361             500   0.009481   \n",
      "5  2024-04-06    0.001472   67916.527083             600   0.010954   \n",
      "6  2024-04-20    0.001560   64096.196528             700   0.012514   \n",
      "7  2024-05-04    0.001581   63261.094444             800   0.014095   \n",
      "8  2024-05-18    0.001494   66947.722222             900   0.015588   \n",
      "9  2024-06-01    0.001478   67651.296000            1000   0.017067   \n",
      "10 2024-06-15    0.001512   66137.077083            1100   0.018579   \n",
      "11 2024-06-29    0.001647   60726.070833            1200   0.020225   \n",
      "12 2024-07-13    0.001718   58210.161806            1300   0.021943   \n",
      "13 2024-07-27    0.001466   68206.338889            1400   0.023409   \n",
      "14 2024-08-10    0.001648   60679.007639            1500   0.025057   \n",
      "15 2024-08-24    0.001560   64122.834028            1600   0.026617   \n",
      "16 2024-09-07    0.001847   54143.076389            1700   0.028464   \n",
      "17 2024-09-21    0.001582   63211.000000            1800   0.030046   \n",
      "18 2024-10-05    0.001611   62081.000000            1900   0.031657   \n",
      "19 2024-10-19    0.001462   68420.000000            2000   0.033118   \n",
      "20 2024-11-02    0.001439   69474.000000            2100   0.034558   \n",
      "21 2024-11-16    0.001097   91135.000000            2200   0.035655   \n",
      "22 2024-11-30    0.001026   97482.000000            2300   0.036681   \n",
      "23 2024-12-14    0.000986  101433.000000            2400   0.037667   \n",
      "24 2024-12-28    0.001062   94148.000000            2500   0.038729   \n",
      "25 2025-01-11    0.001056   94685.000000            2600   0.039785   \n",
      "26 2025-01-25    0.000955  104711.000000            2700   0.040740   \n",
      "\n",
      "    Total_Value  \n",
      "0    100.000000  \n",
      "1    213.164370  \n",
      "2    329.905203  \n",
      "3    542.668620  \n",
      "4    609.676396  \n",
      "5    743.947442  \n",
      "6    802.100114  \n",
      "7    891.649643  \n",
      "8   1043.611759  \n",
      "9   1154.579389  \n",
      "10  1228.736781  \n",
      "11  1228.207657  \n",
      "12  1277.322450  \n",
      "13  1596.671460  \n",
      "14  1520.460932  \n",
      "15  1706.754425  \n",
      "16  1541.123690  \n",
      "17  1899.232258  \n",
      "18  1965.280375  \n",
      "19  2265.952276  \n",
      "20  2400.858937  \n",
      "21  3249.412430  \n",
      "22  3575.714298  \n",
      "23  3820.639999  \n",
      "24  3646.238548  \n",
      "25  3767.035911  \n",
      "26  4265.919599  \n",
      "DCA results saved to dca_results.csv\n"
     ]
    }
   ],
   "source": [
    "# Parameters for DCA strategy\n",
    "investment_amount = 100 # Dollar Amount\n",
    "frequency_days = 14 # Purchase every X Days\n",
    "start_date = datetime(2024, 1, 27) # Start 3 Years ago\n",
    "end_date = datetime(2025, 1, 27)\n",
    "\n",
    "# Run DCA simulation\n",
    "purchases_df, total_invested, total_btc, final_value = calculate_dca(df, investment_amount, frequency_days, start_date, end_date)\n",
    "\n",
    "# Calculate the total value of Bitcoin held\n",
    "purchases_df['Total_Value'] = purchases_df['Total_BTC'] * purchases_df['Price']\n",
    "\n",
    "# Output results\n",
    "print(f\"Total invested: ${total_invested:.2f}\")\n",
    "print(f\"Total BTC bought: {total_btc:.8f}\")\n",
    "print(f\"Final BTC value at {end_date.date()}: ${final_value:.2f}\")\n",
    "print(f\"Return on Investment: {(final_value - total_invested) / total_invested * 100:.2f}%\")\n",
    "\n",
    "# Display purchases data\n",
    "print(purchases_df)\n",
    "\n",
    "# Export DCA results to CSV\n",
    "purchases_df.to_csv('dca_results.csv', index=False)\n",
    "print(\"DCA results saved to dca_results.csv\")"
   ]
  }
 ],
 "metadata": {
  "kernelspec": {
   "display_name": "Python 3",
   "language": "python",
   "name": "python3"
  },
  "language_info": {
   "codemirror_mode": {
    "name": "ipython",
    "version": 3
   },
   "file_extension": ".py",
   "mimetype": "text/x-python",
   "name": "python",
   "nbconvert_exporter": "python",
   "pygments_lexer": "ipython3",
   "version": "3.13.1"
  }
 },
 "nbformat": 4,
 "nbformat_minor": 2
}
